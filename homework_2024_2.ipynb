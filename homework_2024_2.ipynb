{
 "cells": [
  {
   "cell_type": "markdown",
   "metadata": {},
   "source": [
    "Téléchargement des archives zip"
   ]
  },
  {
   "cell_type": "code",
   "execution_count": null,
   "metadata": {},
   "outputs": [],
   "source": []
  },
  {
   "cell_type": "markdown",
   "metadata": {},
   "source": [
    "Conversion des fichiers CSV en un format compatible avec Spark"
   ]
  },
  {
   "cell_type": "code",
   "execution_count": null,
   "metadata": {},
   "outputs": [],
   "source": []
  },
  {
   "cell_type": "markdown",
   "metadata": {},
   "source": [
    "Sauvegarde des données dans un format de Big Data (parquet/ORC)"
   ]
  },
  {
   "cell_type": "markdown",
   "metadata": {},
   "source": [
    "Organisation des données en un schéma en étoile\n",
    "\n",
    "Conseils : \n",
    "- N'oubliez pas de demander à Spark/Dask d'utiliser une part substantielle de la mémoire et des ressources de votre ordinateur.\n",
    "- N'oubliez pas de spécifier une colonne de partitionnement et un nombre de partitions lors de la création des fichiers parquet.\n",
    "\n",
    "\n",
    "Questions à se poser : \n",
    "- Quel est le StorageLevel du dataframe après la lecture des fichiers csv ?\n",
    "- Quel est le nombre de partitions du dataframe ?\n",
    "- Est-il possible de régler ce nombre au moment du chargement ?\n",
    "- Pourquoi voudrions-nous modifier le nombre de partitions lors de la création des fichiers parquet ?"
   ]
  },
  {
   "cell_type": "markdown",
   "metadata": {},
   "source": [
    "Analyse des données avant et après Covid : \n",
    "\n",
    "Analysez (au moins) une année de données avant Covid et une année après Covid.\n",
    "\n",
    "Calculez au moins les éléments suivants et produisez des graphiques pertinents :\n",
    "1. Répartition des distances des trajets pour chaque jour de la semaine\n",
    "2. Compter le nombre de trajets pour chaque couple de lieux de départ/arrivée\n",
    "3. Répartition des distances des trajets par genre (lorsque disponible)\n",
    "4. Répartition des distances des trajets par tranches d'âge (15-24, 25-44, 45-54, 55-64, 65+ ans) (lorsque disponible)\n",
    "5. Répartition des distances des trajets pour différents types de vélos (lorsque disponible)\n",
    "\n",
    "\n",
    "\n",
    "Conseils pour les graphiques : \n",
    "Si vous souhaitez créer des graphiques attrayants, vous pouvez utiliser matplotlib + seaborn, plotly ou altair pour créer des graphiques interactifs, mais vous pouvez utiliser ce que vous voulez."
   ]
  },
  {
   "cell_type": "markdown",
   "metadata": {},
   "source": [
    "Évaluation des saisonnalités et analyse des séries temporelles\n",
    "\n",
    "Calculez et tracez les séries temporelles suivantes indexées par jour de la semaine et heure de la journée :\n",
    "1. Le nombre de départs/arrivées\n",
    "2. La distance moyenne\n",
    "3. La durée moyenne des trajets\n",
    "4. Le nombre moyen de trajets en cours"
   ]
  },
  {
   "cell_type": "markdown",
   "metadata": {},
   "source": [
    "Suivi de l'exécution des travaux\n",
    "\n",
    "1. Utilisez la méthode `explain` ou consultez l'interface utilisateur de Spark pour analyser le travail. Vous devriez pouvoir évaluer :\n",
    "   - Plan logique analysé\n",
    "   - Plan logique optimisé\n",
    "   - Plan physique\n",
    "\n",
    "2. Les plans logique analysé et optimisé diffèrent-ils ? Repérez les différences, le cas échéant. Comment une SGBDR procéderait-elle à une telle requête ?\n",
    "\n",
    "3. Comment le plan physique diffère-t-il du plan logique optimisé ? Quels sont les mots-clés que vous n'attendez pas dans une SGBDR ? Quelle est leur signification ?\n",
    "\n",
    "4. Inspectez les étapes sur l'interface utilisateur de Spark. Combien d'étapes sont nécessaires pour compléter le travail Spark ? Quels sont les rôles de `HashAggregate` et `Exchange hashpartitioning` ?\n",
    "\n",
    "5. Le plan physique effectue-t-il des opérations de shuffle ? Si oui, combien ?\n",
    "6. Qu'est-ce que les tâches par rapport aux étapes (en langage Spark) ? Combien de tâches composent vos étapes ?"
   ]
  },
  {
   "cell_type": "markdown",
   "metadata": {},
   "source": [
    "Plongée dans les problèmes d'information spatiale\n",
    "\n",
    "\n",
    "**Informations géographiques**\n",
    "\n",
    "**Choisissez une année**\n",
    "Pour cela, vous devrez trouver des outils pour afficher des cartes et créer des cartes choroplèthes. Nous vous laissons rechercher et trouver les outils pertinents pour cela.\n",
    "\n",
    "1. Créez une carte de chaleur indexée par couple de stations où la couleur est fonction du nombre de trajets d'une station à une autre.\n",
    "2. Créez une carte de chaleur interactive avec un curseur permettant à l'utilisateur de sélectionner une heure de la journée et où la couleur est fonction du nombre de trajets d'une station à une autre.\n",
    "\n",
    "Vous pourriez avoir besoin des éléments suivants pour travailler avec des coordonnées GPS et tracer facilement les choses."
   ]
  }
 ],
 "metadata": {
  "language_info": {
   "name": "python"
  }
 },
 "nbformat": 4,
 "nbformat_minor": 2
}
