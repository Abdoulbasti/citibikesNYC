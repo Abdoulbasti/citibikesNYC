{
 "cells": [
  {
   "cell_type": "code",
   "execution_count": 5,
   "metadata": {},
   "outputs": [
    {
     "name": "stdout",
     "output_type": "stream",
     "text": [
      "Erreur lors de l'exécution de PySpark: [WinError 2] The system cannot find the file specified\n"
     ]
    }
   ],
   "source": [
    "from pyspark.sql import SparkSession\n",
    "import os\n",
    "\n",
    "spark = None  # Initialisation de la variable spark\n",
    "\n",
    "try:\n",
    "    # Créer une session Spark\n",
    "    spark = SparkSession.builder \\\n",
    "        .appName(\"Écrire un DataFrame au format Parquet\") \\\n",
    "        .getOrCreate()\n",
    "\n",
    "    # Créer un DataFrame avec des données fictives\n",
    "    data = [\n",
    "        (1, \"Laptop\", 1000.0, \"Electronics\"),\n",
    "        (2, \"Phone\", 500.0, \"Electronics\"),\n",
    "        (3, \"Tablet\", 300.0, \"Electronics\"),\n",
    "        (4, \"Monitor\", 150.0, \"Electronics\"),\n",
    "        (5, \"Printer\", 200.0, \"Office Supplies\")\n",
    "    ]\n",
    "\n",
    "    columns = [\"id\", \"name\", \"price\", \"category\"]\n",
    "\n",
    "    products = spark.createDataFrame(data, columns)\n",
    "\n",
    "    # Afficher le DataFrame\n",
    "    products.show()\n",
    "\n",
    "    # Utiliser un chemin absolu pour le fichier Parquet\n",
    "    output_path = os.path.abspath(\"file.parquet\")\n",
    "\n",
    "    # Écrire les données au format Parquet\n",
    "    products.write.format('parquet').save(output_path)\n",
    "\n",
    "except Exception as e:\n",
    "    print(\"Erreur lors de l'exécution de PySpark:\", e)\n",
    "\n",
    "finally:\n",
    "    # Fermer la session Spark si elle a été créée\n",
    "    if spark:\n",
    "        spark.stop()\n",
    "\n"
   ]
  }
 ],
 "metadata": {
  "kernelspec": {
   "display_name": "Python 3",
   "language": "python",
   "name": "python3"
  },
  "language_info": {
   "codemirror_mode": {
    "name": "ipython",
    "version": 3
   },
   "file_extension": ".py",
   "mimetype": "text/x-python",
   "name": "python",
   "nbconvert_exporter": "python",
   "pygments_lexer": "ipython3",
   "version": "3.11.4"
  }
 },
 "nbformat": 4,
 "nbformat_minor": 2
}
